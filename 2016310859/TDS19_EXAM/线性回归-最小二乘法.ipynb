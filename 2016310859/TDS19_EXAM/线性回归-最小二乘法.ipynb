{
 "cells": [
  {
   "cell_type": "markdown",
   "metadata": {},
   "source": [
    "# 原理解析"
   ]
  },
  {
   "cell_type": "markdown",
   "metadata": {},
   "source": [
    "## 矩阵乘法的 MapReduce"
   ]
  },
  {
   "cell_type": "markdown",
   "metadata": {},
   "source": [
    "要实现矩阵乘法的 MapReduce，只要能够理解分块矩阵相乘就可以了，已知矩阵\n",
    "\n",
    "$$\n",
    "A \\in R^{M \\times N}, B \\in R^{N \\times H}\n",
    "$$\n",
    "\n",
    "其中，\n",
    "\n",
    "$$\n",
    "A=\\left[\\begin{array}{cccc}{a_{11}} & {a_{12}} & {a_{13}} & {\\cdots} & {a_{1 N}} \\\\ {a_{21}} & {a_{22}} & {a_{23}} & {\\cdots} & {a_{2 N}} \\\\ {a_{31}} & {a_{32}} & {a_{33}} & {\\cdots} & {a_{3 N}} \\\\ {\\vdots} & {\\vdots} & {\\vdots} & {\\vdots} & {\\vdots} \\\\ {a_{M 1}} & {a_{M 2}} & {a_{M 3}} & {\\cdots} & {a_{M N}}\\end{array}\\right] \\quad B=\\left[\\begin{array}{ccccc}{b_{11}} & {b_{12}} & {b_{13}} & {\\cdots} & {b_{1 H}} \\\\ {b_{21}} & {b_{22}} & {b_{23}} & {\\cdots} & {b_{2 H}} \\\\ {b_{31}} & {b_{32}} & {b_{33}} & {\\cdots} & {b_{3 H}} \\\\ {\\vdots} & {\\vdots} & {\\vdots} & {\\vdots} & {\\vdots} \\\\ {b_{N 1}} & {b_{N 2}} & {b_{N 3}} & {\\cdots} & {b_{N H}}\\end{array}\\right]\n",
    "$$\n",
    "\n",
    "矩阵 $C=A B$, 那么 $C \\in R^{M \\times H}$\n",
    "\n",
    "下面我们矩阵分块，将 A 矩阵按列分为 V 块，B 矩阵按行分为 V 块，即：\n",
    "\n",
    "$$\n",
    "\\begin{array}{l}{A=\\left[A_{M \\times N_{1}} A_{M \\times N_{2}} \\quad A_{M \\times N_{3}} \\cdots A_{M \\times N_{V}}\\right]} \\\\ {B=\\left[\\begin{array}{c}{B_{N_{1} \\times H}} \\\\ {B_{N_{3} \\times H}} \\\\ {B_{N_{3} \\times H}} \\\\ {\\vdots} \\\\ {B_{N_{V} \\times H}}\\end{array}\\right]}\\end{array}\n",
    "$$\n",
    "\n",
    "其中\n",
    "\n",
    "$$\n",
    "N=\\sum_{i=1}^{V} N_{i}\n",
    "$$\n",
    "\n",
    "那么显然：\n",
    "\n",
    "$$\n",
    "C=A B=\\sum_{i=1}^{V} A_{M \\times N_{i}} B_{N_{i} \\times H}\n",
    "$$\n",
    "\n",
    "这时候，就可以准备 V 台计算机，每一台计算机计算一个 $A_{M \\times N_{i}} B_{N_{i} \\times H}$，这就是 Map 的过程，然后，再把这台计算机上的结果加和，就是 Reduce 的过程。"
   ]
  },
  {
   "cell_type": "markdown",
   "metadata": {},
   "source": [
    "## 线性最小二乘的 MapReduce"
   ]
  },
  {
   "cell_type": "markdown",
   "metadata": {},
   "source": [
    "在解线性最小二乘问题时，我们已知的准备工作是数据集（训练集），包含 M 个点，即：\n",
    "\n",
    "$$\n",
    "\\left\\{\\left(\\mathbf{x}^{(1)}, y^{(1)}\\right),\\left(\\mathbf{x}^{(2)}, y^{(2)}\\right), \\cdots,\\left(\\mathbf{x}^{(M)}, y^{(M)}\\right)\\right\\}\n",
    "$$\n",
    "\n",
    "其中：$\\mathbf{x}^{(i)} \\in R^{N}, y^{(i)} \\in R^{1}, \\forall i \\in\\{1,2, \\cdots, M\\}$。\n",
    "\n",
    "而我们最后要的结果是找出 $\\mathbf{W}$ 满足下式：\n",
    "\n",
    "$$\n",
    "A^{T} A \\mathbf{w}=A^{T} \\mathbf{b}\n",
    "$$\n",
    "\n",
    "其中：\n",
    "\n",
    "$$\n",
    "A=\\left[\\begin{array}{cccc}{1} & {x_{1}^{(1)}} & {x_{2}^{(1)}} & {\\cdots} & {x_{N}^{(1)}} \\\\ {1} & {x_{1}^{(2)}} & {x_{2}^{(2)}} & {\\cdots} & {x_{N}^{(2)}} \\\\ {1} & {x_{1}^{(3)}} & {x_{2}^{(3)}} & {\\cdots} & {x_{N}^{(3)}} \\\\ {\\vdots} & {\\vdots} & {\\vdots} & {\\vdots} & {\\vdots} \\\\ {1} & {x_{1}^{(M)}} & {x_{2}^{(M)}} & {\\cdots} & {x_{N}^{(M)}}\\end{array}\\right], \\quad\\left[\\begin{array}{c}{w_{0}} \\\\ {w_{1}} \\\\ {w_{2}} \\\\ {\\vdots} \\\\ {w_{N}}\\end{array}\\right] \\mathbf{b}=\\left[\\begin{array}{c}{y^{(1)}} \\\\ {y^{(2)}} \\\\ {y^{(3)}} \\\\ {\\vdots} \\\\ {y^{(M)}}\\end{array}\\right]\n",
    "$$\n",
    "\n",
    "求 $C=A^{T} A$ 和 $D=A^{T} b$ 时，就会用到 MapReduce。\n",
    "\n",
    "因为 C 和 D 都是矩阵相乘的结果，那么根据上节讨论，可知道通过矩阵的分块来实现 Map 和 Reduce 两个过程。\n",
    "\n",
    "$$\n",
    "C=\\sum_{i=1}^{M} \\mathbf{a}^{(i)}\\left(\\mathbf{a}^{(i)}\\right)^{T} \\quad D=\\sum_{i=1}^{M} \\mathbf{a}^{(i)} y^{(i)}\n",
    "$$\n",
    "\n",
    "其中：\n",
    "\n",
    "$$\n",
    "\\mathbf{a}^{(i)}=\\left[\\begin{array}{c}{1} \\\\ {\\mathbf{x}_{1}^{(i)}} \\\\ {\\mathbf{x}_{2}^{(i)}} \\\\ {\\mathbf{x}_{3}^{(i)}} \\\\ {\\vdots} \\\\ {\\mathbf{x}_{N}^{(i)}}\\end{array}\\right]\n",
    "$$\n",
    "\n",
    "把这 M 个 $\\mathbf{a}^{(i)}$ 分成 V 份，分别在 V 台计算机上运行，那么这个过程就是 Map；然后把 V 个结果相加，就得到了矩阵 C 和 D，这个过程就是 Reduce。"
   ]
  },
  {
   "cell_type": "markdown",
   "metadata": {},
   "source": [
    "# 实证分析"
   ]
  },
  {
   "cell_type": "markdown",
   "metadata": {},
   "source": [
    "## 波士顿房价数据集"
   ]
  },
  {
   "cell_type": "code",
   "execution_count": 168,
   "metadata": {
    "scrolled": true
   },
   "outputs": [
    {
     "data": {
      "text/plain": [
       "(500, 13)"
      ]
     },
     "execution_count": 168,
     "metadata": {},
     "output_type": "execute_result"
    }
   ],
   "source": [
    "import numpy as np\n",
    "import pandas as pd\n",
    "from sklearn import linear_model\n",
    "from sklearn.datasets import load_boston\n",
    "\n",
    "boston = load_boston()\n",
    "X = pd.DataFrame(boston.data)\n",
    "X.columns = boston.feature_names\n",
    "y = pd.DataFrame(boston.target)\n",
    "X = X[0:500]; y = y[0:500]\n",
    "X.shape"
   ]
  },
  {
   "cell_type": "code",
   "execution_count": 169,
   "metadata": {
    "scrolled": true
   },
   "outputs": [
    {
     "data": {
      "text/html": [
       "<div>\n",
       "<style scoped>\n",
       "    .dataframe tbody tr th:only-of-type {\n",
       "        vertical-align: middle;\n",
       "    }\n",
       "\n",
       "    .dataframe tbody tr th {\n",
       "        vertical-align: top;\n",
       "    }\n",
       "\n",
       "    .dataframe thead th {\n",
       "        text-align: right;\n",
       "    }\n",
       "</style>\n",
       "<table border=\"1\" class=\"dataframe\">\n",
       "  <thead>\n",
       "    <tr style=\"text-align: right;\">\n",
       "      <th></th>\n",
       "      <th>CRIM</th>\n",
       "      <th>ZN</th>\n",
       "      <th>INDUS</th>\n",
       "      <th>CHAS</th>\n",
       "      <th>NOX</th>\n",
       "      <th>RM</th>\n",
       "      <th>AGE</th>\n",
       "      <th>DIS</th>\n",
       "      <th>RAD</th>\n",
       "      <th>TAX</th>\n",
       "      <th>PTRATIO</th>\n",
       "      <th>B</th>\n",
       "      <th>LSTAT</th>\n",
       "    </tr>\n",
       "  </thead>\n",
       "  <tbody>\n",
       "    <tr>\n",
       "      <th>0</th>\n",
       "      <td>0.00632</td>\n",
       "      <td>18.0</td>\n",
       "      <td>2.31</td>\n",
       "      <td>0.0</td>\n",
       "      <td>0.538</td>\n",
       "      <td>6.575</td>\n",
       "      <td>65.2</td>\n",
       "      <td>4.0900</td>\n",
       "      <td>1.0</td>\n",
       "      <td>296.0</td>\n",
       "      <td>15.3</td>\n",
       "      <td>396.90</td>\n",
       "      <td>4.98</td>\n",
       "    </tr>\n",
       "    <tr>\n",
       "      <th>1</th>\n",
       "      <td>0.02731</td>\n",
       "      <td>0.0</td>\n",
       "      <td>7.07</td>\n",
       "      <td>0.0</td>\n",
       "      <td>0.469</td>\n",
       "      <td>6.421</td>\n",
       "      <td>78.9</td>\n",
       "      <td>4.9671</td>\n",
       "      <td>2.0</td>\n",
       "      <td>242.0</td>\n",
       "      <td>17.8</td>\n",
       "      <td>396.90</td>\n",
       "      <td>9.14</td>\n",
       "    </tr>\n",
       "    <tr>\n",
       "      <th>2</th>\n",
       "      <td>0.02729</td>\n",
       "      <td>0.0</td>\n",
       "      <td>7.07</td>\n",
       "      <td>0.0</td>\n",
       "      <td>0.469</td>\n",
       "      <td>7.185</td>\n",
       "      <td>61.1</td>\n",
       "      <td>4.9671</td>\n",
       "      <td>2.0</td>\n",
       "      <td>242.0</td>\n",
       "      <td>17.8</td>\n",
       "      <td>392.83</td>\n",
       "      <td>4.03</td>\n",
       "    </tr>\n",
       "    <tr>\n",
       "      <th>3</th>\n",
       "      <td>0.03237</td>\n",
       "      <td>0.0</td>\n",
       "      <td>2.18</td>\n",
       "      <td>0.0</td>\n",
       "      <td>0.458</td>\n",
       "      <td>6.998</td>\n",
       "      <td>45.8</td>\n",
       "      <td>6.0622</td>\n",
       "      <td>3.0</td>\n",
       "      <td>222.0</td>\n",
       "      <td>18.7</td>\n",
       "      <td>394.63</td>\n",
       "      <td>2.94</td>\n",
       "    </tr>\n",
       "    <tr>\n",
       "      <th>4</th>\n",
       "      <td>0.06905</td>\n",
       "      <td>0.0</td>\n",
       "      <td>2.18</td>\n",
       "      <td>0.0</td>\n",
       "      <td>0.458</td>\n",
       "      <td>7.147</td>\n",
       "      <td>54.2</td>\n",
       "      <td>6.0622</td>\n",
       "      <td>3.0</td>\n",
       "      <td>222.0</td>\n",
       "      <td>18.7</td>\n",
       "      <td>396.90</td>\n",
       "      <td>5.33</td>\n",
       "    </tr>\n",
       "  </tbody>\n",
       "</table>\n",
       "</div>"
      ],
      "text/plain": [
       "      CRIM    ZN  INDUS  CHAS    NOX     RM   AGE     DIS  RAD    TAX  \\\n",
       "0  0.00632  18.0   2.31   0.0  0.538  6.575  65.2  4.0900  1.0  296.0   \n",
       "1  0.02731   0.0   7.07   0.0  0.469  6.421  78.9  4.9671  2.0  242.0   \n",
       "2  0.02729   0.0   7.07   0.0  0.469  7.185  61.1  4.9671  2.0  242.0   \n",
       "3  0.03237   0.0   2.18   0.0  0.458  6.998  45.8  6.0622  3.0  222.0   \n",
       "4  0.06905   0.0   2.18   0.0  0.458  7.147  54.2  6.0622  3.0  222.0   \n",
       "\n",
       "   PTRATIO       B  LSTAT  \n",
       "0     15.3  396.90   4.98  \n",
       "1     17.8  396.90   9.14  \n",
       "2     17.8  392.83   4.03  \n",
       "3     18.7  394.63   2.94  \n",
       "4     18.7  396.90   5.33  "
      ]
     },
     "execution_count": 169,
     "metadata": {},
     "output_type": "execute_result"
    }
   ],
   "source": [
    "X.head()"
   ]
  },
  {
   "cell_type": "markdown",
   "metadata": {},
   "source": [
    "## 函数结果"
   ]
  },
  {
   "cell_type": "code",
   "execution_count": 170,
   "metadata": {},
   "outputs": [
    {
     "data": {
      "text/plain": [
       "LinearRegression(copy_X=True, fit_intercept=True, n_jobs=None,\n",
       "         normalize=False)"
      ]
     },
     "execution_count": 170,
     "metadata": {},
     "output_type": "execute_result"
    }
   ],
   "source": [
    "model = linear_model.LinearRegression()\n",
    "model.fit(X, y)"
   ]
  },
  {
   "cell_type": "code",
   "execution_count": 171,
   "metadata": {
    "scrolled": true
   },
   "outputs": [
    {
     "data": {
      "text/plain": [
       "array([[-1.05855998e-01,  4.87517296e-02,  1.82934523e-02,\n",
       "         2.61119923e+00, -1.70062416e+01,  3.79736168e+00,\n",
       "         2.02008117e-03, -1.51449492e+00,  2.90883354e-01,\n",
       "        -1.25645889e-02, -8.85637329e-01,  9.29626996e-03,\n",
       "        -5.38781881e-01]])"
      ]
     },
     "execution_count": 171,
     "metadata": {},
     "output_type": "execute_result"
    }
   ],
   "source": [
    "model.coef_"
   ]
  },
  {
   "cell_type": "code",
   "execution_count": 172,
   "metadata": {},
   "outputs": [
    {
     "data": {
      "text/plain": [
       "array([35.40683395])"
      ]
     },
     "execution_count": 172,
     "metadata": {},
     "output_type": "execute_result"
    }
   ],
   "source": [
    "model.intercept_"
   ]
  },
  {
   "cell_type": "markdown",
   "metadata": {},
   "source": [
    "## MapReduce 结果"
   ]
  },
  {
   "cell_type": "code",
   "execution_count": 174,
   "metadata": {},
   "outputs": [
    {
     "data": {
      "text/html": [
       "<div>\n",
       "<style scoped>\n",
       "    .dataframe tbody tr th:only-of-type {\n",
       "        vertical-align: middle;\n",
       "    }\n",
       "\n",
       "    .dataframe tbody tr th {\n",
       "        vertical-align: top;\n",
       "    }\n",
       "\n",
       "    .dataframe thead th {\n",
       "        text-align: right;\n",
       "    }\n",
       "</style>\n",
       "<table border=\"1\" class=\"dataframe\">\n",
       "  <thead>\n",
       "    <tr style=\"text-align: right;\">\n",
       "      <th></th>\n",
       "      <th>CRIM</th>\n",
       "      <th>ZN</th>\n",
       "      <th>INDUS</th>\n",
       "      <th>CHAS</th>\n",
       "      <th>NOX</th>\n",
       "      <th>RM</th>\n",
       "      <th>AGE</th>\n",
       "      <th>DIS</th>\n",
       "      <th>RAD</th>\n",
       "      <th>TAX</th>\n",
       "      <th>PTRATIO</th>\n",
       "      <th>B</th>\n",
       "      <th>LSTAT</th>\n",
       "      <th>intercept</th>\n",
       "      <th>y</th>\n",
       "    </tr>\n",
       "  </thead>\n",
       "  <tbody>\n",
       "    <tr>\n",
       "      <th>0</th>\n",
       "      <td>0.00632</td>\n",
       "      <td>18.0</td>\n",
       "      <td>2.31</td>\n",
       "      <td>0.0</td>\n",
       "      <td>0.538</td>\n",
       "      <td>6.575</td>\n",
       "      <td>65.2</td>\n",
       "      <td>4.0900</td>\n",
       "      <td>1.0</td>\n",
       "      <td>296.0</td>\n",
       "      <td>15.3</td>\n",
       "      <td>396.90</td>\n",
       "      <td>4.98</td>\n",
       "      <td>1</td>\n",
       "      <td>24.0</td>\n",
       "    </tr>\n",
       "    <tr>\n",
       "      <th>1</th>\n",
       "      <td>0.02731</td>\n",
       "      <td>0.0</td>\n",
       "      <td>7.07</td>\n",
       "      <td>0.0</td>\n",
       "      <td>0.469</td>\n",
       "      <td>6.421</td>\n",
       "      <td>78.9</td>\n",
       "      <td>4.9671</td>\n",
       "      <td>2.0</td>\n",
       "      <td>242.0</td>\n",
       "      <td>17.8</td>\n",
       "      <td>396.90</td>\n",
       "      <td>9.14</td>\n",
       "      <td>1</td>\n",
       "      <td>21.6</td>\n",
       "    </tr>\n",
       "    <tr>\n",
       "      <th>2</th>\n",
       "      <td>0.02729</td>\n",
       "      <td>0.0</td>\n",
       "      <td>7.07</td>\n",
       "      <td>0.0</td>\n",
       "      <td>0.469</td>\n",
       "      <td>7.185</td>\n",
       "      <td>61.1</td>\n",
       "      <td>4.9671</td>\n",
       "      <td>2.0</td>\n",
       "      <td>242.0</td>\n",
       "      <td>17.8</td>\n",
       "      <td>392.83</td>\n",
       "      <td>4.03</td>\n",
       "      <td>1</td>\n",
       "      <td>34.7</td>\n",
       "    </tr>\n",
       "    <tr>\n",
       "      <th>3</th>\n",
       "      <td>0.03237</td>\n",
       "      <td>0.0</td>\n",
       "      <td>2.18</td>\n",
       "      <td>0.0</td>\n",
       "      <td>0.458</td>\n",
       "      <td>6.998</td>\n",
       "      <td>45.8</td>\n",
       "      <td>6.0622</td>\n",
       "      <td>3.0</td>\n",
       "      <td>222.0</td>\n",
       "      <td>18.7</td>\n",
       "      <td>394.63</td>\n",
       "      <td>2.94</td>\n",
       "      <td>1</td>\n",
       "      <td>33.4</td>\n",
       "    </tr>\n",
       "    <tr>\n",
       "      <th>4</th>\n",
       "      <td>0.06905</td>\n",
       "      <td>0.0</td>\n",
       "      <td>2.18</td>\n",
       "      <td>0.0</td>\n",
       "      <td>0.458</td>\n",
       "      <td>7.147</td>\n",
       "      <td>54.2</td>\n",
       "      <td>6.0622</td>\n",
       "      <td>3.0</td>\n",
       "      <td>222.0</td>\n",
       "      <td>18.7</td>\n",
       "      <td>396.90</td>\n",
       "      <td>5.33</td>\n",
       "      <td>1</td>\n",
       "      <td>36.2</td>\n",
       "    </tr>\n",
       "  </tbody>\n",
       "</table>\n",
       "</div>"
      ],
      "text/plain": [
       "      CRIM    ZN  INDUS  CHAS    NOX     RM   AGE     DIS  RAD    TAX  \\\n",
       "0  0.00632  18.0   2.31   0.0  0.538  6.575  65.2  4.0900  1.0  296.0   \n",
       "1  0.02731   0.0   7.07   0.0  0.469  6.421  78.9  4.9671  2.0  242.0   \n",
       "2  0.02729   0.0   7.07   0.0  0.469  7.185  61.1  4.9671  2.0  242.0   \n",
       "3  0.03237   0.0   2.18   0.0  0.458  6.998  45.8  6.0622  3.0  222.0   \n",
       "4  0.06905   0.0   2.18   0.0  0.458  7.147  54.2  6.0622  3.0  222.0   \n",
       "\n",
       "   PTRATIO       B  LSTAT  intercept     y  \n",
       "0     15.3  396.90   4.98          1  24.0  \n",
       "1     17.8  396.90   9.14          1  21.6  \n",
       "2     17.8  392.83   4.03          1  34.7  \n",
       "3     18.7  394.63   2.94          1  33.4  \n",
       "4     18.7  396.90   5.33          1  36.2  "
      ]
     },
     "execution_count": 174,
     "metadata": {},
     "output_type": "execute_result"
    }
   ],
   "source": [
    "data = X\n",
    "data['intercept'] = 1\n",
    "data['y'] = y\n",
    "data.head()"
   ]
  },
  {
   "cell_type": "code",
   "execution_count": 176,
   "metadata": {},
   "outputs": [],
   "source": [
    "data.to_csv('boston.csv', header=False, index=False)"
   ]
  },
  {
   "cell_type": "markdown",
   "metadata": {},
   "source": [
    "在本地 shell 测试所写的 mapper 与 reduce 函数：\n",
    "\n",
    "```bash\n",
    "cat boston.csv | python3 lr_ mapper.py | python3 lr_reduce.py\n",
    "```\n",
    "\n",
    "结果如下，与上述结果相同，测试成功。"
   ]
  },
  {
   "cell_type": "markdown",
   "metadata": {},
   "source": [
    "![结果](https://blog-1255524710.cos.ap-beijing.myqcloud.com/temp/Snipaste_2019-07-03_21-09-37.png)"
   ]
  }
 ],
 "metadata": {
  "kernelspec": {
   "display_name": "Python 3",
   "language": "python",
   "name": "python3"
  },
  "language_info": {
   "codemirror_mode": {
    "name": "ipython",
    "version": 3
   },
   "file_extension": ".py",
   "mimetype": "text/x-python",
   "name": "python",
   "nbconvert_exporter": "python",
   "pygments_lexer": "ipython3",
   "version": "3.7.0"
  },
  "toc": {
   "base_numbering": 1,
   "nav_menu": {},
   "number_sections": true,
   "sideBar": true,
   "skip_h1_title": false,
   "title_cell": "Table of Contents",
   "title_sidebar": "Contents",
   "toc_cell": false,
   "toc_position": {
    "height": "calc(100% - 180px)",
    "left": "10px",
    "top": "150px",
    "width": "307.2px"
   },
   "toc_section_display": true,
   "toc_window_display": true
  }
 },
 "nbformat": 4,
 "nbformat_minor": 2
}
